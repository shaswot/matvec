{
 "cells": [
  {
   "cell_type": "code",
   "execution_count": 1,
   "id": "b41a409d",
   "metadata": {
    "tags": []
   },
   "outputs": [],
   "source": [
    "import random\n",
    "import os\n",
    "import numpy as np\n",
    "import tensorflow as tf\n",
    "from tensorflow import keras\n",
    "from tensorflow.keras.datasets import mnist"
   ]
  },
  {
   "cell_type": "code",
   "execution_count": 2,
   "id": "be581815",
   "metadata": {},
   "outputs": [],
   "source": [
    "gpus = tf.config.experimental.list_physical_devices('GPU')\n",
    "if gpus:\n",
    "    try:\n",
    "        for gpu in gpus:\n",
    "            tf.config.experimental.set_memory_growth(gpu, True)\n",
    "    except RuntimeError as e:\n",
    "        print(e)"
   ]
  },
  {
   "cell_type": "code",
   "execution_count": 3,
   "id": "86182352",
   "metadata": {
    "tags": []
   },
   "outputs": [],
   "source": [
    "layer_width = 512\n",
    "model_seed = 52233264"
   ]
  },
  {
   "cell_type": "code",
   "execution_count": 4,
   "id": "56222ab1",
   "metadata": {
    "tags": []
   },
   "outputs": [
    {
     "name": "stdout",
     "output_type": "stream",
     "text": [
      "Seed:  52233264\n"
     ]
    }
   ],
   "source": [
    "seed = model_seed\n",
    "print(\"Seed: \", seed)\n",
    "tf.random.set_seed(seed)\n",
    "np.random.seed(seed)\n",
    "random.seed(seed)\n",
    "os.environ['PYTHONHASHSEED']=str(seed)"
   ]
  },
  {
   "cell_type": "code",
   "execution_count": 5,
   "id": "d14a36fb",
   "metadata": {
    "tags": []
   },
   "outputs": [],
   "source": [
    "(train_images, train_labels), (test_images, test_labels) = mnist.load_data()\n",
    "train_images = train_images.astype(np.float32) / 255.0\n",
    "test_images = test_images.astype(np.float32) / 255.0"
   ]
  },
  {
   "cell_type": "code",
   "execution_count": 6,
   "id": "aea4c2e5",
   "metadata": {
    "tags": []
   },
   "outputs": [
    {
     "data": {
      "image/png": "[encoded data removed]",
      "text/plain": [
       "<Figure size 432x288 with 1 Axes>"
      ]
     },
     "metadata": {
      "needs_background": "light"
     },
     "output_type": "display_data"
    }
   ],
   "source": [
    "import matplotlib.pyplot as plt\n",
    "plt.hist(train_labels, bins=range(11), rwidth=0.9, align='left');\n",
    "plt.title(\"Distribution of Training Images\");"
   ]
  },
  {
   "cell_type": "code",
   "execution_count": 7,
   "id": "827cb37f",
   "metadata": {},
   "outputs": [],
   "source": [
    "def create_model(layer_width=32):\n",
    "    return keras.Sequential([\n",
    "        keras.layers.Flatten(input_shape=(28, 28)),\n",
    "        keras.layers.Dense(layer_width, activation=tf.nn.relu),\n",
    "        keras.layers.Dense(layer_width, activation=tf.nn.relu),\n",
    "#         keras.layers.Dropout(0.2),\n",
    "        keras.layers.Dense(10, activation=tf.nn.softmax)\n",
    "    ])"
   ]
  },
  {
   "cell_type": "code",
   "execution_count": 8,
   "id": "e46a4d1b",
   "metadata": {},
   "outputs": [],
   "source": [
    "model = create_model(layer_width)\n",
    "model.compile(optimizer='adam',\n",
    "              loss='sparse_categorical_crossentropy',\n",
    "              metrics=['accuracy'])"
   ]
  },
  {
   "cell_type": "code",
   "execution_count": 9,
   "id": "f14dfe7a",
   "metadata": {
    "tags": []
   },
   "outputs": [
    {
     "name": "stdout",
     "output_type": "stream",
     "text": [
      "Epoch 1/25\n",
      "59/59 [==============================] - 1s 12ms/step - loss: 0.8301 - accuracy: 0.7757 - val_loss: 0.1886 - val_accuracy: 0.9449\n",
      "Epoch 2/25\n",
      "59/59 [==============================] - 0s 5ms/step - loss: 0.1786 - accuracy: 0.9490 - val_loss: 0.1298 - val_accuracy: 0.9605\n",
      "Epoch 3/25\n",
      "59/59 [==============================] - 0s 6ms/step - loss: 0.1115 - accuracy: 0.9688 - val_loss: 0.1016 - val_accuracy: 0.9684\n",
      "Epoch 4/25\n",
      "59/59 [==============================] - 0s 6ms/step - loss: 0.0786 - accuracy: 0.9776 - val_loss: 0.0822 - val_accuracy: 0.9741\n",
      "Epoch 5/25\n",
      "59/59 [==============================] - 0s 6ms/step - loss: 0.0567 - accuracy: 0.9840 - val_loss: 0.0731 - val_accuracy: 0.9791\n",
      "Epoch 6/25\n",
      "59/59 [==============================] - 0s 6ms/step - loss: 0.0413 - accuracy: 0.9886 - val_loss: 0.0737 - val_accuracy: 0.9775\n",
      "Epoch 7/25\n",
      "59/59 [==============================] - 0s 6ms/step - loss: 0.0343 - accuracy: 0.9905 - val_loss: 0.0678 - val_accuracy: 0.9787\n",
      "Epoch 8/25\n",
      "59/59 [==============================] - 0s 6ms/step - loss: 0.0266 - accuracy: 0.9933 - val_loss: 0.0670 - val_accuracy: 0.9788\n",
      "Epoch 9/25\n",
      "59/59 [==============================] - 0s 6ms/step - loss: 0.0196 - accuracy: 0.9952 - val_loss: 0.0694 - val_accuracy: 0.9793\n",
      "Epoch 10/25\n",
      "59/59 [==============================] - 0s 6ms/step - loss: 0.0166 - accuracy: 0.9958 - val_loss: 0.0667 - val_accuracy: 0.9793\n",
      "Epoch 11/25\n",
      "59/59 [==============================] - 0s 6ms/step - loss: 0.0121 - accuracy: 0.9975 - val_loss: 0.0625 - val_accuracy: 0.9810\n",
      "Epoch 12/25\n",
      "59/59 [==============================] - 0s 6ms/step - loss: 0.0091 - accuracy: 0.9984 - val_loss: 0.0655 - val_accuracy: 0.9797\n",
      "Epoch 13/25\n",
      "59/59 [==============================] - 0s 5ms/step - loss: 0.0069 - accuracy: 0.9991 - val_loss: 0.0641 - val_accuracy: 0.9816\n",
      "Epoch 14/25\n",
      "59/59 [==============================] - 0s 5ms/step - loss: 0.0046 - accuracy: 0.9994 - val_loss: 0.0654 - val_accuracy: 0.9813\n",
      "Epoch 15/25\n",
      "59/59 [==============================] - 0s 5ms/step - loss: 0.0042 - accuracy: 0.9996 - val_loss: 0.0651 - val_accuracy: 0.9815\n",
      "Epoch 16/25\n",
      "59/59 [==============================] - 0s 5ms/step - loss: 0.0038 - accuracy: 0.9995 - val_loss: 0.0679 - val_accuracy: 0.9817\n",
      "Epoch 17/25\n",
      "59/59 [==============================] - 0s 5ms/step - loss: 0.0024 - accuracy: 0.9999 - val_loss: 0.0675 - val_accuracy: 0.9819\n",
      "Epoch 18/25\n",
      "59/59 [==============================] - 0s 5ms/step - loss: 0.0016 - accuracy: 1.0000 - val_loss: 0.0672 - val_accuracy: 0.9825\n",
      "Epoch 19/25\n",
      "59/59 [==============================] - 0s 5ms/step - loss: 0.0015 - accuracy: 0.9999 - val_loss: 0.0676 - val_accuracy: 0.9821\n",
      "Epoch 20/25\n",
      "59/59 [==============================] - 0s 5ms/step - loss: 0.0010 - accuracy: 1.0000 - val_loss: 0.0686 - val_accuracy: 0.9825\n",
      "Epoch 21/25\n",
      "59/59 [==============================] - 0s 5ms/step - loss: 8.9340e-04 - accuracy: 1.0000 - val_loss: 0.0687 - val_accuracy: 0.9824\n",
      "Epoch 22/25\n",
      "59/59 [==============================] - 0s 5ms/step - loss: 8.0896e-04 - accuracy: 1.0000 - val_loss: 0.0694 - val_accuracy: 0.9827\n",
      "Epoch 23/25\n",
      "59/59 [==============================] - 0s 5ms/step - loss: 6.9405e-04 - accuracy: 1.0000 - val_loss: 0.0705 - val_accuracy: 0.9823\n",
      "Epoch 24/25\n",
      "59/59 [==============================] - 0s 5ms/step - loss: 6.0844e-04 - accuracy: 1.0000 - val_loss: 0.0700 - val_accuracy: 0.9828\n",
      "Epoch 25/25\n",
      "59/59 [==============================] - 0s 5ms/step - loss: 5.3170e-04 - accuracy: 1.0000 - val_loss: 0.0715 - val_accuracy: 0.9821\n"
     ]
    },
    {
     "data": {
      "text/plain": [
       "<tensorflow.python.keras.callbacks.History at 0x7fda5833cd50>"
      ]
     },
     "execution_count": 9,
     "metadata": {},
     "output_type": "execute_result"
    }
   ],
   "source": [
    "model.fit(train_images, train_labels,\n",
    "          batch_size=1024, \n",
    "          epochs=25, \n",
    "          verbose=1,\n",
    "          validation_data=(test_images, test_labels))"
   ]
  },
  {
   "cell_type": "code",
   "execution_count": 10,
   "id": "9d936d71",
   "metadata": {
    "tags": []
   },
   "outputs": [
    {
     "name": "stdout",
     "output_type": "stream",
     "text": [
      "Evaluating\n",
      "313/313 [==============================] - 1s 2ms/step - loss: 0.0715 - accuracy: 0.9821\n",
      "Test accuracy: 0.9821000099182129\n",
      "*************************************\n"
     ]
    }
   ],
   "source": [
    "print('Evaluating')\n",
    "test_loss, test_acc = model.evaluate(test_images, test_labels)\n",
    "\n",
    "print('Test accuracy:', test_acc)\n",
    "print(\"*************************************\")"
   ]
  },
  {
   "cell_type": "code",
   "execution_count": 11,
   "id": "7b565d00",
   "metadata": {
    "tags": []
   },
   "outputs": [],
   "source": [
    "# Folder to save models\n",
    "cur_folder = os.getcwd()\n",
    "model_folder = os.path.join(cur_folder,\"models\")\n",
    "if not os.path.exists(model_folder):\n",
    "    os.makedirs(model_folder)"
   ]
  },
  {
   "cell_type": "code",
   "execution_count": 12,
   "id": "e6993310",
   "metadata": {
    "tags": []
   },
   "outputs": [
    {
     "name": "stdout",
     "output_type": "stream",
     "text": [
      "/repos/matvec/models/mnist_dense-w512x512-52233264.h5\n"
     ]
    }
   ],
   "source": [
    "model_name = \"mnist_dense\" + '-w' + str(layer_width) + 'x' + str(layer_width) + '-' + str(seed) +\".h5\"\n",
    "model_file = os.path.join(model_folder, model_name)\n",
    "print(model_file)\n",
    "model.save(model_file)"
   ]
  },
  {
   "cell_type": "code",
   "execution_count": 13,
   "id": "b181b79e",
   "metadata": {
    "tags": []
   },
   "outputs": [],
   "source": [
    "# !jupyter nbconvert --to pdf --TemplateExporter.exclude_input=True train_mnist.ipynb"
   ]
  },
  {
   "cell_type": "code",
   "execution_count": 14,
   "id": "cd95b217",
   "metadata": {},
   "outputs": [],
   "source": [
    "# !jupyter nbconvert --to pdf --TemplateExporter.exclude_input=True inject_dropout_mnist-Copy3.ipynb"
   ]
  },
  {
   "cell_type": "code",
   "execution_count": 15,
   "id": "2535264b",
   "metadata": {},
   "outputs": [],
   "source": [
    "# !jupyter nbconvert --to script inject_dropout_mnist-script_maker.ipynb"
   ]
  },
  {
   "cell_type": "code",
   "execution_count": null,
   "id": "2107cd6d",
   "metadata": {
    "tags": []
   },
   "outputs": [],
   "source": []
  }
 ],
 "metadata": {
  "kernelspec": {
   "display_name": "Python 3",
   "language": "python",
   "name": "python3"
  },
  "language_info": {
   "codemirror_mode": {
    "name": "ipython",
    "version": 3
   },
   "file_extension": ".py",
   "mimetype": "text/x-python",
   "name": "python",
   "nbconvert_exporter": "python",
   "pygments_lexer": "ipython3",
   "version": "3.7.10"
  }
 },
 "nbformat": 4,
 "nbformat_minor": 5
}
