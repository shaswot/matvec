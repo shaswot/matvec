{
 "cells": [
  {
   "cell_type": "code",
   "execution_count": 1,
   "id": "a365f2a5",
   "metadata": {},
   "outputs": [],
   "source": [
    "import numpy as np\n",
    "import subprocess"
   ]
  },
  {
   "cell_type": "code",
   "execution_count": 2,
   "id": "5ae8877e",
   "metadata": {},
   "outputs": [
    {
     "name": "stdout",
     "output_type": "stream",
     "text": [
      "[ 11%] Built target matvec_xblas\n",
      "[ 22%] Built target matvec_cublas\n",
      "[ 33%] Built target matvec_cblas\n",
      "[ 44%] Built target matvec_naive\n",
      "[ 55%] Built target matvec_shmem\n",
      "[ 66%] Built target matvec_super_optimized\n",
      "[ 77%] Built target matvec_banking_blcks\n",
      "[ 88%] Built target matvec_shmem_blcks\n",
      "[100%] Built target matvec_banking\n"
     ]
    }
   ],
   "source": [
    "! make"
   ]
  },
  {
   "cell_type": "code",
   "execution_count": 6,
   "id": "37f644e4",
   "metadata": {},
   "outputs": [
    {
     "name": "stdout",
     "output_type": "stream",
     "text": [
      "matvec_cblas 78.13683\n",
      "matvec_xblas 576.94569\n",
      "matvec_naive 1314.08502\n",
      "matvec_cublas 1892.7129599999998\n",
      "matvec_shmem 6.582719999999998\n",
      "matvec_banking 6.362879999999999\n"
     ]
    }
   ],
   "source": [
    "prgm_list = [\"./matvec_cblas\", \"./matvec_xblas\", \"./matvec_naive\", \n",
    "             \"./matvec_cublas\", \"./matvec_shmem\", \"./matvec_banking\"]\n",
    "for prgm in prgm_list:\n",
    "    prgm_output = []\n",
    "    for i in range(100):\n",
    "        std_output = str(subprocess.run(prgm, capture_output=True).stdout)\n",
    "        list_output = std_output.replace(\"b'Execution Time: \",\"\").replace(\" ms\\\\n'\",\"\")\n",
    "        prgm_output.append(float(list_output))\n",
    "    print(prgm[2:], np.mean(prgm_output)*1000)"
   ]
  }
 ],
 "metadata": {
  "kernelspec": {
   "display_name": "Python 3",
   "language": "python",
   "name": "python3"
  },
  "language_info": {
   "codemirror_mode": {
    "name": "ipython",
    "version": 3
   },
   "file_extension": ".py",
   "mimetype": "text/x-python",
   "name": "python",
   "nbconvert_exporter": "python",
   "pygments_lexer": "ipython3",
   "version": "3.7.10"
  }
 },
 "nbformat": 4,
 "nbformat_minor": 5
}
