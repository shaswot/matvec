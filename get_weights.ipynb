{
 "cells": [
  {
   "cell_type": "code",
   "execution_count": 1,
   "id": "b74ed280",
   "metadata": {},
   "outputs": [],
   "source": [
    "import os\n",
    "import sys\n",
    "import numpy as np\n",
    "# numpy.set_printoptions(threshold=sys.maxsize)\n",
    "import tensorflow as tf\n",
    "from tensorflow import keras"
   ]
  },
  {
   "cell_type": "code",
   "execution_count": 2,
   "id": "80f15b65",
   "metadata": {},
   "outputs": [],
   "source": [
    "layer_width = 512\n",
    "model_seed = 52233264"
   ]
  },
  {
   "cell_type": "code",
   "execution_count": 3,
   "id": "ecad6d9c",
   "metadata": {},
   "outputs": [
    {
     "name": "stdout",
     "output_type": "stream",
     "text": [
      "Model: \"sequential\"\n",
      "_________________________________________________________________\n",
      "Layer (type)                 Output Shape              Param #   \n",
      "=================================================================\n",
      "flatten (Flatten)            (None, 784)               0         \n",
      "_________________________________________________________________\n",
      "dense (Dense)                (None, 512)               401920    \n",
      "_________________________________________________________________\n",
      "dense_1 (Dense)              (None, 512)               262656    \n",
      "_________________________________________________________________\n",
      "dense_2 (Dense)              (None, 10)                5130      \n",
      "=================================================================\n",
      "Total params: 669,706\n",
      "Trainable params: 669,706\n",
      "Non-trainable params: 0\n",
      "_________________________________________________________________\n"
     ]
    }
   ],
   "source": [
    "# Load original model\n",
    "\n",
    "cur_folder = os.getcwd()\n",
    "model_folder = os.path.join(cur_folder,\"models\")\n",
    "model_name = \"mnist_dense\" + '-w' + str(layer_width) + 'x' + str(layer_width) + '-' + str(model_seed) +\".h5\"\n",
    "model_file = os.path.join(model_folder, model_name)\n",
    "model = tf.keras.models.load_model(model_file)\n",
    "model.summary()"
   ]
  },
  {
   "cell_type": "code",
   "execution_count": 4,
   "id": "112d5c6d",
   "metadata": {},
   "outputs": [],
   "source": [
    "# Folder to save weights\n",
    "tag = \"mnist_dense\" + '-w' + str(layer_width) + 'x' + str(layer_width) + '-' + str(model_seed)\n",
    "cur_folder = os.getcwd()\n",
    "weights_folder = os.path.join(cur_folder,\"weights\",tag)\n",
    "if not os.path.exists(weights_folder):\n",
    "    os.makedirs(weights_folder)"
   ]
  },
  {
   "cell_type": "code",
   "execution_count": 5,
   "id": "c0556605",
   "metadata": {},
   "outputs": [],
   "source": [
    "weight_filename_tag = os.path.join(weights_folder, tag + \"_\")\n",
    "for layer in model.layers:\n",
    "    if 'dense' in layer.name:\n",
    "        [weights, biases] = layer.weights # outputs a list containing both weights and biases\n",
    "        np.save(weight_filename_tag + str(layer.name)+\"_weights\", weights)\n",
    "        np.save(weight_filename_tag + str(layer.name)+\"_biases\", biases)"
   ]
  },
  {
   "cell_type": "code",
   "execution_count": 6,
   "id": "4191966f",
   "metadata": {},
   "outputs": [],
   "source": [
    "# for layer in model.layers:\n",
    "#     if 'dense' in layer.name:\n",
    "#         print(layer.weights)"
   ]
  },
  {
   "cell_type": "code",
   "execution_count": null,
   "id": "f35662ed",
   "metadata": {},
   "outputs": [],
   "source": []
  }
 ],
 "metadata": {
  "kernelspec": {
   "display_name": "Python 3",
   "language": "python",
   "name": "python3"
  },
  "language_info": {
   "codemirror_mode": {
    "name": "ipython",
    "version": 3
   },
   "file_extension": ".py",
   "mimetype": "text/x-python",
   "name": "python",
   "nbconvert_exporter": "python",
   "pygments_lexer": "ipython3",
   "version": "3.7.10"
  }
 },
 "nbformat": 4,
 "nbformat_minor": 5
}
