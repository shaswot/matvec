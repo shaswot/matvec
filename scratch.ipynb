{
 "cells": [
  {
   "cell_type": "code",
   "execution_count": 2,
   "id": "08bdc278",
   "metadata": {},
   "outputs": [],
   "source": [
    "import os\n",
    "import numpy as np\n",
    "\n",
    "layer_width = 512\n",
    "model_seed = 52233264"
   ]
  },
  {
   "cell_type": "code",
   "execution_count": 4,
   "id": "d15844a7",
   "metadata": {},
   "outputs": [
    {
     "name": "stdout",
     "output_type": "stream",
     "text": [
      "Weight Matrix Shape:  (512, 784)\n",
      "[[-0.04903154  0.03497267  0.01971617 ... -0.02522767 -0.02386852\n",
      "  -0.0407175 ]\n",
      " [ 0.01767077  0.03867778  0.0566161  ... -0.04291166  0.00098927\n",
      "  -0.01486236]\n",
      " [-0.05900843 -0.03925771  0.06019458 ... -0.06586684 -0.04174013\n",
      "   0.03791939]\n",
      " ...\n",
      " [ 0.04528089 -0.06796134  0.04880853 ...  0.03535631 -0.06762997\n",
      "   0.01774467]\n",
      " [ 0.02545574  0.01088738 -0.01273721 ... -0.04952322  0.03675959\n",
      "   0.03184174]\n",
      " [ 0.04469217 -0.05877706 -0.05039077 ...  0.0483942   0.04719257\n",
      "  -0.02348779]]\n"
     ]
    }
   ],
   "source": [
    "# Load weights matrix\n",
    "\n",
    "tag = \"mnist_dense\" + '-w' + str(layer_width) + 'x' + str(layer_width) + '-' + str(model_seed)\n",
    "cur_folder = os.getcwd()\n",
    "weights_folder = os.path.join(cur_folder,\"weights\",tag)\n",
    "weight_filename_tag = os.path.join(weights_folder, tag + \"_\")\n",
    "layer_name = \"dense\"\n",
    "\n",
    "weights = np.load(weight_filename_tag + layer_name +\"_weights\"+\".npy\")\n",
    "weights_tr = np.transpose(weights)\n",
    "\n",
    "print(\"Weight Matrix Shape: \", weights_tr.shape)\n",
    "print(weights_tr)"
   ]
  },
  {
   "cell_type": "code",
   "execution_count": 8,
   "id": "aad9da6e",
   "metadata": {},
   "outputs": [
    {
     "name": "stdout",
     "output_type": "stream",
     "text": [
      "Image Label:  6\n",
      "Input Vector Shape:  (784, 1)\n"
     ]
    }
   ],
   "source": [
    "# Load input vector\n",
    "\n",
    "from tensorflow.keras.datasets import mnist\n",
    "\n",
    "# Combine test and train images together into one dataset\n",
    "(train_images, train_labels), (test_images, test_labels) = mnist.load_data()\n",
    "train_images = train_images.astype(np.float32) / 255.0\n",
    "test_images = test_images.astype(np.float32) / 255.0  \n",
    "\n",
    "all_images = np.concatenate([train_images, test_images], axis=0)\n",
    "all_labels = np.concatenate([train_labels, test_labels], axis=0)\n",
    "\n",
    "# Test image\n",
    "image_no = 69999\n",
    "\n",
    "input_vector = np.expand_dims(all_images[image_no].flatten(),-1)\n",
    "\n",
    "print(\"Image Label: \", all_labels[image_no])\n",
    "print(\"Input Vector Shape: \", input_vector.shape)\n",
    "# print(input_vector)"
   ]
  },
  {
   "cell_type": "code",
   "execution_count": 10,
   "id": "fc0407d7",
   "metadata": {},
   "outputs": [
    {
     "name": "stdout",
     "output_type": "stream",
     "text": [
      "l1 shape:  (512, 1)\n"
     ]
    }
   ],
   "source": [
    "l1 = np.matmul(weights_tr,input_vector)\n",
    "print(\"l1 shape: \", l1.shape)\n",
    "# print(l1)"
   ]
  },
  {
   "cell_type": "code",
   "execution_count": null,
   "id": "e9c6d474",
   "metadata": {},
   "outputs": [],
   "source": []
  },
  {
   "cell_type": "code",
   "execution_count": null,
   "id": "3118822b",
   "metadata": {},
   "outputs": [],
   "source": []
  },
  {
   "cell_type": "code",
   "execution_count": null,
   "id": "c51cd9dc",
   "metadata": {},
   "outputs": [],
   "source": []
  }
 ],
 "metadata": {
  "kernelspec": {
   "display_name": "Python 3",
   "language": "python",
   "name": "python3"
  },
  "language_info": {
   "codemirror_mode": {
    "name": "ipython",
    "version": 3
   },
   "file_extension": ".py",
   "mimetype": "text/x-python",
   "name": "python",
   "nbconvert_exporter": "python",
   "pygments_lexer": "ipython3",
   "version": "3.7.10"
  }
 },
 "nbformat": 4,
 "nbformat_minor": 5
}
