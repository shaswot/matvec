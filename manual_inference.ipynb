{
 "cells": [
  {
   "cell_type": "code",
   "execution_count": 1,
   "id": "73130e30",
   "metadata": {},
   "outputs": [],
   "source": [
    "import numpy as np\n",
    "import tensorflow as tf\n",
    "import os\n",
    "from scipy.special import softmax"
   ]
  },
  {
   "cell_type": "code",
   "execution_count": 2,
   "id": "84225065",
   "metadata": {},
   "outputs": [],
   "source": [
    "relu = lambda x: x * (x > 0)"
   ]
  },
  {
   "cell_type": "code",
   "execution_count": 3,
   "id": "847393d4",
   "metadata": {},
   "outputs": [],
   "source": [
    "# Combine test and train images together into one dataset\n",
    "\n",
    "(train_images, train_labels), (test_images, test_labels) = tf.keras.datasets.mnist.load_data()\n",
    "train_images = train_images.astype(np.float32) / 255.0\n",
    "test_images = test_images.astype(np.float32) / 255.0  \n",
    "\n",
    "all_images =np.concatenate([train_images, test_images], axis=0)\n",
    "all_labels =np.concatenate([train_labels, test_labels], axis=0)"
   ]
  },
  {
   "cell_type": "code",
   "execution_count": 4,
   "id": "e15e463c",
   "metadata": {},
   "outputs": [],
   "source": [
    "# Arguments\n",
    "\n",
    "layer_width = 512\n",
    "model_seed = 52233264"
   ]
  },
  {
   "cell_type": "code",
   "execution_count": 5,
   "id": "794fdce9",
   "metadata": {},
   "outputs": [],
   "source": [
    "# load weights\n",
    "tag = \"mnist_dense\" + '-w' + str(layer_width) + 'x' + str(layer_width) + '-' + str(model_seed)\n",
    "cur_folder = os.getcwd()\n",
    "weights_folder = os.path.join(cur_folder,\"weights\",tag)\n",
    "weight_filename_tag = os.path.join(weights_folder, tag + \"_\")\n",
    "\n",
    "# Layer_0\n",
    "dense_weights_file = weight_filename_tag + \"dense_weights.npy\"\n",
    "dense_biases_file = weight_filename_tag + \"dense_biases.npy\"\n",
    "dense_weights = np.load(dense_weights_file)\n",
    "dense_biases = np.load(dense_biases_file).reshape(-1,1)\n",
    "\n",
    "# Layer_1\n",
    "dense_1_weights_file = weight_filename_tag + \"dense_1_weights.npy\"\n",
    "dense_1_biases_file = weight_filename_tag + \"dense_1_biases.npy\"\n",
    "dense_1_weights = np.load(dense_1_weights_file)\n",
    "dense_1_biases = np.load(dense_1_biases_file).reshape(-1,1)\n",
    "\n",
    "#Layer_2\n",
    "dense_2_weights_file = weight_filename_tag + \"dense_2_weights.npy\"\n",
    "dense_2_biases_file = weight_filename_tag + \"dense_2_biases.npy\"\n",
    "dense_2_weights = np.load(dense_2_weights_file)\n",
    "dense_2_biases = np.load(dense_2_biases_file).reshape(-1,1)"
   ]
  },
  {
   "cell_type": "code",
   "execution_count": 6,
   "id": "88e224aa",
   "metadata": {},
   "outputs": [
    {
     "name": "stdout",
     "output_type": "stream",
     "text": [
      "IMAGE_NUMBER:  69999\n",
      "TRUTH_LABEL:  6\n"
     ]
    }
   ],
   "source": [
    "# load input\n",
    "image_no = 69999;\n",
    "input_image = all_images[image_no]\n",
    "input_image_label = all_labels[image_no]\n",
    "print(\"IMAGE_NUMBER: \", image_no)\n",
    "print(\"TRUTH_LABEL: \", input_image_label)"
   ]
  },
  {
   "cell_type": "code",
   "execution_count": 7,
   "id": "3a2f6712",
   "metadata": {},
   "outputs": [],
   "source": [
    "# flatten input\n",
    "\n",
    "flattened_input = input_image.reshape(-1,1)"
   ]
  },
  {
   "cell_type": "code",
   "execution_count": 8,
   "id": "a1e50378",
   "metadata": {},
   "outputs": [],
   "source": [
    "# send through Layer_0\n",
    "\n",
    "# matvec multiplication\n",
    "l0 = np.matmul(dense_weights.transpose(), \n",
    "               flattened_input)\n",
    "# add bias\n",
    "b0 = l0 + dense_biases\n",
    "\n",
    "# ReLU\n",
    "b0_relu = relu(b0)"
   ]
  },
  {
   "cell_type": "code",
   "execution_count": null,
   "id": "4ccca0d4",
   "metadata": {},
   "outputs": [],
   "source": [
    "# def block_matvec_mul(mat_A, vec_B, BLOCK_WIDTH, BLOCK_HEIGHT):\n",
    "#     gridydim = np.ceil(mat_A.shape[0]/BLOCK_HEIGHT)\n",
    "#     gridxdim = np.ceil(mat_A.shape[1]/BLOCK_WIDTH)"
   ]
  },
  {
   "cell_type": "code",
   "execution_count": 14,
   "id": "5db5a4ee",
   "metadata": {},
   "outputs": [],
   "source": [
    "mat_A = dense_weights.transpose()\n",
    "vec_B = flattened_input\n",
    "BLOCK_WIDTH = 98 \n",
    "BLOCK_HEIGHT = 64\n",
    "gridydim = int(np.ceil(mat_A.shape[0]/BLOCK_HEIGHT))\n",
    "gridxdim = int(np.ceil(mat_A.shape[1]/BLOCK_WIDTH))"
   ]
  },
  {
   "cell_type": "code",
   "execution_count": 25,
   "id": "d8560d08",
   "metadata": {},
   "outputs": [],
   "source": [
    "block_result = np.zeros((gridxdim, gridydim,BLOCK_HEIGHT ))\n",
    "for x in range(gridxdim):\n",
    "    for y in range(gridydim):\n",
    "        block_result[x][y] = np.matmul(mat_A[y*BLOCK_HEIGHT:(y+1)*BLOCK_HEIGHT,\n",
    "                                             x*BLOCK_WIDTH:(x+1)*BLOCK_WIDTH], vec_B[x*BLOCK_WIDTH:(x+1)*BLOCK_WIDTH]).squeeze()"
   ]
  },
  {
   "cell_type": "code",
   "execution_count": 30,
   "id": "f0fcfa84",
   "metadata": {},
   "outputs": [
    {
     "data": {
      "text/plain": [
       "array([-0.2271778 , -0.05175527,  0.05430012, -0.07369927,  0.03136926,\n",
       "        0.01070307, -0.00880489, -0.17959148,  0.01069862,  0.09602164,\n",
       "        0.30006996, -0.07533787,  0.08697767, -0.11873722,  0.04214808,\n",
       "       -0.09910676,  0.07967037, -0.02747371, -0.10535175, -0.07890169,\n",
       "       -0.23723087, -0.00216037,  0.02920011, -0.06236065, -0.02466929,\n",
       "        0.09762336,  0.14536835, -0.08125498,  0.03984001, -0.04781194,\n",
       "       -0.02764399,  0.08038249,  0.13794455, -0.04274514, -0.01352616,\n",
       "       -0.22639287,  0.00608538, -0.01955259, -0.01390323, -0.29229653,\n",
       "        0.14870457,  0.11163494,  0.08664815, -0.06725822, -0.11501683,\n",
       "       -0.04009764, -0.04251356,  0.06426201,  0.10306149,  0.19338332,\n",
       "        0.1153013 ,  0.05630733,  0.17276248, -0.06732856,  0.02955971,\n",
       "        0.16069503,  0.06314635, -0.06719813, -0.24348572, -0.20874313,\n",
       "       -0.007449  ,  0.10988941,  0.03196   ,  0.08673925])"
      ]
     },
     "execution_count": 30,
     "metadata": {},
     "output_type": "execute_result"
    }
   ],
   "source": [
    "block_result[0][0]"
   ]
  },
  {
   "cell_type": "code",
   "execution_count": 31,
   "id": "c3060758",
   "metadata": {},
   "outputs": [],
   "source": [
    "error_profile = np.random.uniform(low=0.0, high=0.6, size=(gridxdim, gridydim,BLOCK_HEIGHT))"
   ]
  },
  {
   "cell_type": "code",
   "execution_count": null,
   "id": "bd3fc103",
   "metadata": {},
   "outputs": [],
   "source": []
  },
  {
   "cell_type": "code",
   "execution_count": 9,
   "id": "2c695e71",
   "metadata": {},
   "outputs": [],
   "source": [
    "# send through Layer_1\n",
    "\n",
    "# matvec multiplication\n",
    "l1 = np.matmul(dense_1_weights.transpose(), \n",
    "               b0_relu)\n",
    "# add bias\n",
    "b1 = l1 + dense_1_biases\n",
    "\n",
    "# ReLU\n",
    "b1_relu = relu(b1)"
   ]
  },
  {
   "cell_type": "code",
   "execution_count": 10,
   "id": "05272008",
   "metadata": {},
   "outputs": [],
   "source": [
    "# send through Layer_2\n",
    "\n",
    "# matvec multiplication\n",
    "l2 = np.matmul(dense_2_weights.transpose(), \n",
    "               b1_relu)\n",
    "# add bias\n",
    "b2 = l2 + dense_2_biases\n",
    "\n",
    "# softmax\n",
    "b2_softmax = softmax(b2)"
   ]
  },
  {
   "cell_type": "code",
   "execution_count": 11,
   "id": "b1a746e2",
   "metadata": {},
   "outputs": [
    {
     "name": "stdout",
     "output_type": "stream",
     "text": [
      "PREDICTION:  6\n"
     ]
    }
   ],
   "source": [
    "# Output\n",
    "prediction = np.argmax(b2_softmax)\n",
    "print(\"PREDICTION: \", prediction)"
   ]
  },
  {
   "cell_type": "code",
   "execution_count": null,
   "id": "cb8e5088",
   "metadata": {},
   "outputs": [],
   "source": []
  }
 ],
 "metadata": {
  "kernelspec": {
   "display_name": "Python 3",
   "language": "python",
   "name": "python3"
  },
  "language_info": {
   "codemirror_mode": {
    "name": "ipython",
    "version": 3
   },
   "file_extension": ".py",
   "mimetype": "text/x-python",
   "name": "python",
   "nbconvert_exporter": "python",
   "pygments_lexer": "ipython3",
   "version": "3.7.10"
  }
 },
 "nbformat": 4,
 "nbformat_minor": 5
}
