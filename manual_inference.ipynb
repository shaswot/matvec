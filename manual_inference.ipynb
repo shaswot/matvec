{
 "cells": [
  {
   "cell_type": "code",
   "execution_count": 1,
   "id": "a0e98a67",
   "metadata": {
    "jupyter": {
     "source_hidden": true
    }
   },
   "outputs": [],
   "source": [
    "import numpy as np\n",
    "import tensorflow as tf\n",
    "import os\n",
    "from scipy.special import softmax"
   ]
  },
  {
   "cell_type": "code",
   "execution_count": 2,
   "id": "25dc0c8d",
   "metadata": {
    "jupyter": {
     "source_hidden": true
    }
   },
   "outputs": [
    {
     "name": "stdout",
     "output_type": "stream",
     "text": [
      "Seed:  39487\n"
     ]
    }
   ],
   "source": [
    "import random\n",
    "\n",
    "seed = 39487\n",
    "print(\"Seed: \", seed)\n",
    "# tf.random.set_seed(seed)\n",
    "np.random.seed(seed)\n",
    "random.seed(seed)\n",
    "os.environ['PYTHONHASHSEED']=str(seed)"
   ]
  },
  {
   "cell_type": "code",
   "execution_count": 3,
   "id": "23c03118",
   "metadata": {
    "jupyter": {
     "source_hidden": true
    }
   },
   "outputs": [],
   "source": [
    "relu = lambda x: x * (x > 0)"
   ]
  },
  {
   "cell_type": "code",
   "execution_count": 4,
   "id": "10e02083",
   "metadata": {
    "jupyter": {
     "source_hidden": true
    }
   },
   "outputs": [],
   "source": [
    "def block_matvec_mul(mat_A, vec_B, BLOCK_WIDTH, BLOCK_HEIGHT, error_profile):\n",
    "    gridydim = int(np.ceil(mat_A.shape[0]/BLOCK_HEIGHT))\n",
    "    gridxdim = int(np.ceil(mat_A.shape[1]/BLOCK_WIDTH))\n",
    "#     print(\"GRID: (\",gridydim,\",\",gridxdim,\")\")\n",
    "\n",
    "    block_result = np.zeros((gridydim, gridxdim,BLOCK_HEIGHT ))\n",
    "    block_error_profile = error_profile.reshape(gridydim, gridxdim, BLOCK_HEIGHT)\n",
    "    for x in range(gridxdim):\n",
    "        for y in range(gridydim):\n",
    "            block_result[y][x] = np.matmul(mat_A[y*BLOCK_HEIGHT:(y+1)*BLOCK_HEIGHT,\n",
    "                                                 x*BLOCK_WIDTH:(x+1)*BLOCK_WIDTH], vec_B[x*BLOCK_WIDTH:(x+1)*BLOCK_WIDTH]).squeeze()\n",
    "            block_result[y][x] += block_error_profile[y][x]\n",
    "\n",
    "    # sum columnwise i.e., sum elements in each row i.e., axis = 1\n",
    "    block_sum = block_result.sum(axis=1)\n",
    "\n",
    "    #flatten to single vector\n",
    "    product = block_sum.reshape(-1,1)\n",
    "\n",
    "    return product"
   ]
  },
  {
   "cell_type": "code",
   "execution_count": 5,
   "id": "9c4df0f7",
   "metadata": {
    "jupyter": {
     "source_hidden": true
    }
   },
   "outputs": [],
   "source": [
    "def manual_inference(input_image, error_profile):\n",
    "    # flatten input\n",
    "\n",
    "    flattened_input = input_image.reshape(-1,1)\n",
    "\n",
    "    # send through Layer_0\n",
    "    l0_BLOCK_WIDTH  = 98\n",
    "    l0_BLOCK_HEIGHT = 64\n",
    "\n",
    "    l0_NO_OF_SM_X = 8 # l0_BLOCK_WIDTH * l0_NO_OF_SM_X = l0_INPUT_LENGHT (784)\n",
    "    l0_NO_OF_SM_Y = 8 # l0_BLOCK_HEIGHT * l0_NO_OF_SM_Y = l0_LAYER_WIDTH (512)\n",
    "    l0_TOTAL_SM = l0_NO_OF_SM_X * l0_NO_OF_SM_Y\n",
    "    l0_NO_OF_THREADS_PER_SM = l0_BLOCK_HEIGHT\n",
    "    l0_error_profile = error_profile[0:l0_TOTAL_SM,\n",
    "                                     0:l0_NO_OF_THREADS_PER_SM]\n",
    "\n",
    "    # matvec multiplication\n",
    "    # l0 = np.matmul(dense_weights.transpose(), \n",
    "    #                flattened_input)\n",
    "    l0 = block_matvec_mul(dense_weights.transpose(),\n",
    "                          flattened_input,\n",
    "                          BLOCK_WIDTH=l0_BLOCK_WIDTH,\n",
    "                          BLOCK_HEIGHT=l0_BLOCK_HEIGHT,\n",
    "                          error_profile=l0_error_profile)\n",
    "\n",
    "    # add bias\n",
    "    b0 = l0 + dense_biases\n",
    "\n",
    "    # ReLU\n",
    "    b0_relu = relu(b0)\n",
    "\n",
    "    # send through Layer_1\n",
    "    l1_BLOCK_WIDTH  = 64\n",
    "    l1_BLOCK_HEIGHT = 64\n",
    "\n",
    "    l1_NO_OF_SM_X = 8 # l1_BLOCK_WIDTH * l1_NO_OF_SM_X = l1_INPUT_LENGHT (784)\n",
    "    l1_NO_OF_SM_Y = 8 # l1_BLOCK_HEIGHT * l1_NO_OF_SM_Y = l1_LAYER_WIDTH (512)\n",
    "    l1_TOTAL_SM = l1_NO_OF_SM_X * l1_NO_OF_SM_Y\n",
    "    l1_NO_OF_THREADS_PER_SM = l1_BLOCK_HEIGHT\n",
    "    l1_error_profile = error_profile[0:l1_TOTAL_SM,\n",
    "                                     0:l1_NO_OF_THREADS_PER_SM]\n",
    "\n",
    "    # matvec multiplication\n",
    "    # l1 = np.matmul(dense_1_weights.transpose(), \n",
    "    #                b0_relu)\n",
    "    l1 = block_matvec_mul(dense_1_weights.transpose(),\n",
    "                          b0_relu,\n",
    "                          BLOCK_WIDTH=l1_BLOCK_WIDTH,\n",
    "                          BLOCK_HEIGHT=l1_BLOCK_HEIGHT,\n",
    "                          error_profile=l1_error_profile)\n",
    "\n",
    "    # add bias\n",
    "    b1 = l1 + dense_1_biases\n",
    "\n",
    "    # ReLU\n",
    "    b1_relu = relu(b1)\n",
    "\n",
    "    # send through Layer_2\n",
    "    l2_BLOCK_WIDTH  = 64\n",
    "    l2_BLOCK_HEIGHT = 10\n",
    "\n",
    "    l2_NO_OF_SM_X = 8 # l2_BLOCK_WIDTH * l2_NO_OF_SM_X = l2_INPUT_LENGHT (784)\n",
    "    l2_NO_OF_SM_Y = 1 # l2_BLOCK_HEIGHT * l2_NO_OF_SM_Y = l2_LAYER_WIDTH (512)\n",
    "    l2_TOTAL_SM = l2_NO_OF_SM_X * l2_NO_OF_SM_Y\n",
    "    l2_NO_OF_THREADS_PER_SM = l2_BLOCK_HEIGHT\n",
    "    l2_error_profile = error_profile[0:l2_TOTAL_SM,\n",
    "                                     0:l2_NO_OF_THREADS_PER_SM]\n",
    "    # matvec multiplication\n",
    "    # l2 = np.matmul(dense_2_weights.transpose(), \n",
    "    #                b1_relu)\n",
    "    l2 = block_matvec_mul(dense_2_weights.transpose(), \n",
    "                         b1_relu,\n",
    "                         BLOCK_WIDTH=64,\n",
    "                         BLOCK_HEIGHT=10,\n",
    "                         error_profile=l2_error_profile)\n",
    "\n",
    "    # add bias\n",
    "    b2 = l2 + dense_2_biases\n",
    "\n",
    "    # softmax\n",
    "    b2_softmax = softmax(b2)\n",
    "\n",
    "    # Output\n",
    "    prediction = np.argmax(b2_softmax)\n",
    "#     print(\"PREDICTION: \", prediction)\n",
    "    \n",
    "    return prediction"
   ]
  },
  {
   "cell_type": "code",
   "execution_count": 6,
   "id": "a0f15622",
   "metadata": {
    "jupyter": {
     "source_hidden": true
    }
   },
   "outputs": [],
   "source": [
    "# Combine test and train images together into one dataset\n",
    "\n",
    "(train_images, train_labels), (test_images, test_labels) = tf.keras.datasets.mnist.load_data()\n",
    "train_images = train_images.astype(np.float32) / 255.0\n",
    "test_images = test_images.astype(np.float32) / 255.0  \n",
    "\n",
    "all_images =np.concatenate([train_images, test_images], axis=0)\n",
    "all_labels =np.concatenate([train_labels, test_labels], axis=0)"
   ]
  },
  {
   "cell_type": "code",
   "execution_count": 7,
   "id": "33c22f0b",
   "metadata": {
    "jupyter": {
     "source_hidden": true
    }
   },
   "outputs": [],
   "source": [
    "# Arguments\n",
    "layer_width = 512\n",
    "model_seed = 52233264"
   ]
  },
  {
   "cell_type": "code",
   "execution_count": 8,
   "id": "9f0cb665",
   "metadata": {
    "jupyter": {
     "source_hidden": true
    }
   },
   "outputs": [],
   "source": [
    "# load weights\n",
    "tag = \"mnist_dense\" + '-w' + str(layer_width) + 'x' + str(layer_width) + '-' + str(model_seed)\n",
    "cur_folder = os.getcwd()\n",
    "weights_folder = os.path.join(cur_folder,\"weights\",tag)\n",
    "weight_filename_tag = os.path.join(weights_folder, tag + \"_\")\n",
    "\n",
    "# Layer_0\n",
    "dense_weights_file = weight_filename_tag + \"dense_weights.npy\"\n",
    "dense_biases_file = weight_filename_tag + \"dense_biases.npy\"\n",
    "dense_weights = np.load(dense_weights_file)\n",
    "dense_biases = np.load(dense_biases_file).reshape(-1,1)\n",
    "\n",
    "# Layer_1\n",
    "dense_1_weights_file = weight_filename_tag + \"dense_1_weights.npy\"\n",
    "dense_1_biases_file = weight_filename_tag + \"dense_1_biases.npy\"\n",
    "dense_1_weights = np.load(dense_1_weights_file)\n",
    "dense_1_biases = np.load(dense_1_biases_file).reshape(-1,1)\n",
    "\n",
    "#Layer_2\n",
    "dense_2_weights_file = weight_filename_tag + \"dense_2_weights.npy\"\n",
    "dense_2_biases_file = weight_filename_tag + \"dense_2_biases.npy\"\n",
    "dense_2_weights = np.load(dense_2_weights_file)\n",
    "dense_2_biases = np.load(dense_2_biases_file).reshape(-1,1)"
   ]
  },
  {
   "cell_type": "code",
   "execution_count": 9,
   "id": "0cad6a71",
   "metadata": {
    "jupyter": {
     "source_hidden": true
    }
   },
   "outputs": [],
   "source": [
    "# # load input\n",
    "# image_no = 69999;\n",
    "# input_image = all_images[image_no]\n",
    "# input_image_label = all_labels[image_no]\n",
    "# # print(\"IMAGE_NUMBER: \", image_no)\n",
    "# # print(\"TRUTH_LABEL: \", input_image_label)"
   ]
  },
  {
   "cell_type": "code",
   "execution_count": 10,
   "id": "ef777d6f",
   "metadata": {
    "jupyter": {
     "source_hidden": true
    }
   },
   "outputs": [],
   "source": [
    "# NO_OF_IMAGES = all_images.shape[0]\n",
    "NO_OF_IMAGES = 20000\n",
    "\n",
    "test_images = np.random.choice(all_images.shape[0], size=(NO_OF_IMAGES))"
   ]
  },
  {
   "cell_type": "code",
   "execution_count": 11,
   "id": "705f98f6",
   "metadata": {
    "jupyter": {
     "source_hidden": true
    }
   },
   "outputs": [
    {
     "name": "stdout",
     "output_type": "stream",
     "text": [
      "Accuracy:  99.81\n"
     ]
    }
   ],
   "source": [
    "zero_error_profile = np.zeros((68,64))\n",
    "correct_predictions = 0;\n",
    "for image_no in test_images:\n",
    "    if manual_inference(all_images[image_no],\n",
    "                        zero_error_profile) == all_labels[image_no]:\n",
    "        correct_predictions += 1\n",
    "print(\"Accuracy: \", 100*correct_predictions/NO_OF_IMAGES)"
   ]
  },
  {
   "cell_type": "code",
   "execution_count": 12,
   "id": "bbde5193",
   "metadata": {
    "jupyter": {
     "source_hidden": true
    }
   },
   "outputs": [],
   "source": [
    "error_profile = np.load(\"./data/uniform_20210907.npy\") #shape(68, 64)"
   ]
  },
  {
   "cell_type": "code",
   "execution_count": 13,
   "id": "642da5c5",
   "metadata": {
    "jupyter": {
     "source_hidden": true
    }
   },
   "outputs": [
    {
     "name": "stdout",
     "output_type": "stream",
     "text": [
      "Accuracy:  22.67\n"
     ]
    }
   ],
   "source": [
    "correct_predictions = 0;\n",
    "for image_no in test_images:\n",
    "    if manual_inference(all_images[image_no],\n",
    "                        error_profile) == all_labels[image_no]:\n",
    "        correct_predictions += 1\n",
    "print(\"Accuracy: \", 100*correct_predictions/NO_OF_IMAGES)"
   ]
  },
  {
   "cell_type": "code",
   "execution_count": 14,
   "id": "8c1f6c53",
   "metadata": {
    "jupyter": {
     "source_hidden": true
    }
   },
   "outputs": [
    {
     "name": "stdout",
     "output_type": "stream",
     "text": [
      "Accuracy:  23.295\n",
      "Accuracy:  25.255\n",
      "Accuracy:  27.975\n",
      "Accuracy:  20.875\n",
      "Accuracy:  20.335\n",
      "Accuracy:  25.525\n",
      "Accuracy:  24.435\n",
      "Accuracy:  22.225\n",
      "Accuracy:  27.25\n",
      "Accuracy:  22.495\n",
      "Accuracy:  24.87\n",
      "Accuracy:  26.33\n",
      "Accuracy:  23.475\n",
      "Accuracy:  25.89\n",
      "Accuracy:  24.075\n",
      "Accuracy:  22.95\n",
      "Accuracy:  21.05\n",
      "Accuracy:  26.175\n",
      "Accuracy:  24.45\n",
      "Accuracy:  24.44\n",
      "Accuracy:  25.945\n",
      "Accuracy:  23.12\n",
      "Accuracy:  21.035\n",
      "Accuracy:  22.39\n",
      "Accuracy:  25.34\n",
      "Accuracy:  24.815\n",
      "Accuracy:  25.05\n",
      "Accuracy:  23.505\n",
      "Accuracy:  24.39\n",
      "Accuracy:  23.935\n",
      "Accuracy:  20.82\n",
      "Accuracy:  25.275\n",
      "Accuracy:  21.405\n",
      "Accuracy:  27.82\n",
      "Accuracy:  18.6\n",
      "Accuracy:  21.255\n",
      "Accuracy:  25.595\n",
      "Accuracy:  15.15\n",
      "Accuracy:  25.87\n",
      "Accuracy:  21.21\n",
      "Accuracy:  20.755\n",
      "Accuracy:  28.25\n",
      "Accuracy:  21.61\n",
      "Accuracy:  24.035\n",
      "Accuracy:  24.73\n",
      "Accuracy:  22.43\n",
      "Accuracy:  27.53\n",
      "Accuracy:  25.0\n",
      "Accuracy:  27.14\n",
      "Accuracy:  25.32\n",
      "Accuracy:  16.545\n",
      "Accuracy:  24.425\n",
      "Accuracy:  24.515\n",
      "Accuracy:  26.18\n",
      "Accuracy:  22.145\n",
      "Accuracy:  26.13\n",
      "Accuracy:  23.435\n",
      "Accuracy:  22.625\n",
      "Accuracy:  27.74\n",
      "Accuracy:  26.735\n",
      "Accuracy:  23.645\n",
      "Accuracy:  22.85\n",
      "Accuracy:  27.795\n",
      "Accuracy:  22.675\n",
      "Accuracy:  23.435\n",
      "Accuracy:  27.315\n",
      "Accuracy:  20.35\n",
      "Accuracy:  26.835\n",
      "Accuracy:  20.38\n",
      "Accuracy:  22.575\n",
      "Accuracy:  24.21\n",
      "Accuracy:  23.345\n",
      "Accuracy:  25.455\n",
      "Accuracy:  26.32\n",
      "Accuracy:  25.68\n",
      "Accuracy:  26.445\n",
      "Accuracy:  24.04\n",
      "Accuracy:  22.08\n",
      "Accuracy:  23.64\n",
      "Accuracy:  28.475\n",
      "Accuracy:  17.695\n",
      "Accuracy:  20.075\n",
      "Accuracy:  18.845\n",
      "Accuracy:  23.77\n",
      "Accuracy:  25.55\n",
      "Accuracy:  24.99\n",
      "Accuracy:  26.025\n",
      "Accuracy:  21.93\n",
      "Accuracy:  18.075\n",
      "Accuracy:  17.315\n",
      "Accuracy:  27.17\n",
      "Accuracy:  27.57\n",
      "Accuracy:  25.815\n",
      "Accuracy:  13.075\n",
      "Accuracy:  21.6\n",
      "Accuracy:  24.635\n",
      "Accuracy:  18.15\n",
      "Accuracy:  24.06\n",
      "Accuracy:  22.005\n",
      "Accuracy:  13.765\n"
     ]
    }
   ],
   "source": [
    "for i in range(100):\n",
    "    for row in error_profile:\n",
    "        np.random.shuffle(row)\n",
    "\n",
    "\n",
    "    correct_predictions = 0;\n",
    "    for image_no in test_images:\n",
    "        if manual_inference(all_images[image_no],\n",
    "                            error_profile) == all_labels[image_no]:\n",
    "            correct_predictions += 1\n",
    "    print(\"Accuracy: \", 100*correct_predictions/NO_OF_IMAGES)"
   ]
  }
 ],
 "metadata": {
  "kernelspec": {
   "display_name": "Python 3",
   "language": "python",
   "name": "python3"
  },
  "language_info": {
   "codemirror_mode": {
    "name": "ipython",
    "version": 3
   },
   "file_extension": ".py",
   "mimetype": "text/x-python",
   "name": "python",
   "nbconvert_exporter": "python",
   "pygments_lexer": "ipython3",
   "version": "3.7.10"
  }
 },
 "nbformat": 4,
 "nbformat_minor": 5
}
