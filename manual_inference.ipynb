{
 "cells": [
  {
   "cell_type": "code",
   "execution_count": 1,
   "id": "f1d25972",
   "metadata": {},
   "outputs": [],
   "source": [
    "import numpy as np\n",
    "import tensorflow as tf\n",
    "import os\n",
    "from scipy.special import softmax"
   ]
  },
  {
   "cell_type": "code",
   "execution_count": 2,
   "id": "e2a6d528",
   "metadata": {},
   "outputs": [],
   "source": [
    "relu = lambda x: x * (x > 0)"
   ]
  },
  {
   "cell_type": "code",
   "execution_count": 3,
   "id": "be3f482d",
   "metadata": {},
   "outputs": [],
   "source": [
    "def block_matvec_mul(mat_A, vec_B, BLOCK_WIDTH, BLOCK_HEIGHT):\n",
    "    gridydim = int(np.ceil(mat_A.shape[0]/BLOCK_HEIGHT))\n",
    "    gridxdim = int(np.ceil(mat_A.shape[1]/BLOCK_WIDTH))\n",
    "    print(\"GRID: (\",gridydim,\",\",gridxdim,\")\")\n",
    "\n",
    "    block_result = np.zeros((gridydim, gridxdim,BLOCK_HEIGHT ))\n",
    "    for x in range(gridxdim):\n",
    "        for y in range(gridydim):\n",
    "            block_result[y][x] = np.matmul(mat_A[y*BLOCK_HEIGHT:(y+1)*BLOCK_HEIGHT,\n",
    "                                                 x*BLOCK_WIDTH:(x+1)*BLOCK_WIDTH], vec_B[x*BLOCK_WIDTH:(x+1)*BLOCK_WIDTH]).squeeze()\n",
    "\n",
    "    # sum columnwise i.e., sum elements in each row i.e., axis = 1\n",
    "    block_sum = block_result.sum(axis=1)\n",
    "\n",
    "    #flatten to single vector\n",
    "    product = block_sum.reshape(-1,1)\n",
    "\n",
    "    return product"
   ]
  },
  {
   "cell_type": "code",
   "execution_count": 4,
   "id": "d120994b",
   "metadata": {
    "jupyter": {
     "source_hidden": true
    }
   },
   "outputs": [],
   "source": [
    "# Combine test and train images together into one dataset\n",
    "\n",
    "(train_images, train_labels), (test_images, test_labels) = tf.keras.datasets.mnist.load_data()\n",
    "train_images = train_images.astype(np.float32) / 255.0\n",
    "test_images = test_images.astype(np.float32) / 255.0  \n",
    "\n",
    "all_images =np.concatenate([train_images, test_images], axis=0)\n",
    "all_labels =np.concatenate([train_labels, test_labels], axis=0)"
   ]
  },
  {
   "cell_type": "code",
   "execution_count": 5,
   "id": "4a4669b8",
   "metadata": {
    "jupyter": {
     "source_hidden": true
    }
   },
   "outputs": [],
   "source": [
    "# Arguments\n",
    "\n",
    "layer_width = 512\n",
    "model_seed = 52233264"
   ]
  },
  {
   "cell_type": "code",
   "execution_count": 6,
   "id": "dffbd659",
   "metadata": {
    "jupyter": {
     "source_hidden": true
    }
   },
   "outputs": [],
   "source": [
    "# load weights\n",
    "tag = \"mnist_dense\" + '-w' + str(layer_width) + 'x' + str(layer_width) + '-' + str(model_seed)\n",
    "cur_folder = os.getcwd()\n",
    "weights_folder = os.path.join(cur_folder,\"weights\",tag)\n",
    "weight_filename_tag = os.path.join(weights_folder, tag + \"_\")\n",
    "\n",
    "# Layer_0\n",
    "dense_weights_file = weight_filename_tag + \"dense_weights.npy\"\n",
    "dense_biases_file = weight_filename_tag + \"dense_biases.npy\"\n",
    "dense_weights = np.load(dense_weights_file)\n",
    "dense_biases = np.load(dense_biases_file).reshape(-1,1)\n",
    "\n",
    "# Layer_1\n",
    "dense_1_weights_file = weight_filename_tag + \"dense_1_weights.npy\"\n",
    "dense_1_biases_file = weight_filename_tag + \"dense_1_biases.npy\"\n",
    "dense_1_weights = np.load(dense_1_weights_file)\n",
    "dense_1_biases = np.load(dense_1_biases_file).reshape(-1,1)\n",
    "\n",
    "#Layer_2\n",
    "dense_2_weights_file = weight_filename_tag + \"dense_2_weights.npy\"\n",
    "dense_2_biases_file = weight_filename_tag + \"dense_2_biases.npy\"\n",
    "dense_2_weights = np.load(dense_2_weights_file)\n",
    "dense_2_biases = np.load(dense_2_biases_file).reshape(-1,1)"
   ]
  },
  {
   "cell_type": "code",
   "execution_count": 7,
   "id": "a541bee5",
   "metadata": {
    "jupyter": {
     "source_hidden": true
    }
   },
   "outputs": [
    {
     "name": "stdout",
     "output_type": "stream",
     "text": [
      "IMAGE_NUMBER:  69999\n",
      "TRUTH_LABEL:  6\n"
     ]
    }
   ],
   "source": [
    "# load input\n",
    "image_no = 69999;\n",
    "input_image = all_images[image_no]\n",
    "input_image_label = all_labels[image_no]\n",
    "print(\"IMAGE_NUMBER: \", image_no)\n",
    "print(\"TRUTH_LABEL: \", input_image_label)"
   ]
  },
  {
   "cell_type": "code",
   "execution_count": 8,
   "id": "d39555c6",
   "metadata": {
    "jupyter": {
     "source_hidden": true
    }
   },
   "outputs": [],
   "source": [
    "# flatten input\n",
    "\n",
    "flattened_input = input_image.reshape(-1,1)"
   ]
  },
  {
   "cell_type": "code",
   "execution_count": 9,
   "id": "76af85e9",
   "metadata": {
    "jupyter": {
     "source_hidden": true
    }
   },
   "outputs": [
    {
     "name": "stdout",
     "output_type": "stream",
     "text": [
      "GRID: ( 8 , 8 )\n"
     ]
    }
   ],
   "source": [
    "# send through Layer_0\n",
    "\n",
    "# matvec multiplication\n",
    "# l0 = np.matmul(dense_weights.transpose(), \n",
    "#                flattened_input)\n",
    "l0 = block_matvec_mul(dense_weights.transpose(), \n",
    "                         flattened_input,\n",
    "                         BLOCK_WIDTH=98,\n",
    "                         BLOCK_HEIGHT=64)\n",
    "\n",
    "# add bias\n",
    "b0 = l0 + dense_biases\n",
    "\n",
    "# ReLU\n",
    "b0_relu = relu(b0)"
   ]
  },
  {
   "cell_type": "code",
   "execution_count": 10,
   "id": "6dd23a21",
   "metadata": {
    "jupyter": {
     "source_hidden": true
    }
   },
   "outputs": [
    {
     "name": "stdout",
     "output_type": "stream",
     "text": [
      "GRID: ( 8 , 8 )\n"
     ]
    }
   ],
   "source": [
    "# send through Layer_1\n",
    "\n",
    "# matvec multiplication\n",
    "# l1 = np.matmul(dense_1_weights.transpose(), \n",
    "#                b0_relu)\n",
    "l1 = block_matvec_mul(dense_1_weights.transpose(), \n",
    "                         b0_relu,\n",
    "                         BLOCK_WIDTH=64,\n",
    "                         BLOCK_HEIGHT=64)\n",
    "\n",
    "# add bias\n",
    "b1 = l1 + dense_1_biases\n",
    "\n",
    "# ReLU\n",
    "b1_relu = relu(b1)"
   ]
  },
  {
   "cell_type": "code",
   "execution_count": 11,
   "id": "72a12c47",
   "metadata": {
    "jupyter": {
     "source_hidden": true
    }
   },
   "outputs": [
    {
     "name": "stdout",
     "output_type": "stream",
     "text": [
      "GRID: ( 1 , 8 )\n"
     ]
    }
   ],
   "source": [
    "# send through Layer_2\n",
    "\n",
    "# matvec multiplication\n",
    "# l2 = np.matmul(dense_2_weights.transpose(), \n",
    "#                b1_relu)\n",
    "l2 = block_matvec_mul(dense_2_weights.transpose(), \n",
    "                     b1_relu,\n",
    "                     BLOCK_WIDTH=64,\n",
    "                     BLOCK_HEIGHT=10)\n",
    "\n",
    "# add bias\n",
    "b2 = l2 + dense_2_biases\n",
    "\n",
    "# softmax\n",
    "b2_softmax = softmax(b2)"
   ]
  },
  {
   "cell_type": "code",
   "execution_count": 12,
   "id": "da0d81c8",
   "metadata": {},
   "outputs": [
    {
     "name": "stdout",
     "output_type": "stream",
     "text": [
      "PREDICTION:  6\n"
     ]
    }
   ],
   "source": [
    "# Output\n",
    "prediction = np.argmax(b2_softmax)\n",
    "print(\"PREDICTION: \", prediction)"
   ]
  }
 ],
 "metadata": {
  "kernelspec": {
   "display_name": "Python 3",
   "language": "python",
   "name": "python3"
  },
  "language_info": {
   "codemirror_mode": {
    "name": "ipython",
    "version": 3
   },
   "file_extension": ".py",
   "mimetype": "text/x-python",
   "name": "python",
   "nbconvert_exporter": "python",
   "pygments_lexer": "ipython3",
   "version": "3.7.10"
  }
 },
 "nbformat": 4,
 "nbformat_minor": 5
}
