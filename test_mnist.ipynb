{
 "cells": [
  {
   "cell_type": "code",
   "execution_count": 1,
   "id": "ab47bfaa",
   "metadata": {
    "tags": []
   },
   "outputs": [],
   "source": [
    "import random\n",
    "import os\n",
    "import numpy as np\n",
    "import tensorflow as tf\n",
    "from tensorflow import keras\n",
    "import matplotlib.pyplot as plt\n",
    "from scipy.stats import norm"
   ]
  },
  {
   "cell_type": "code",
   "execution_count": 2,
   "id": "4f1f8437",
   "metadata": {},
   "outputs": [],
   "source": [
    "# Limit GPU usage\n",
    "\n",
    "gpus = tf.config.experimental.list_physical_devices('GPU')\n",
    "if gpus:\n",
    "    try:\n",
    "        for gpu in gpus:\n",
    "            tf.config.experimental.set_memory_growth(gpu, True)\n",
    "    except RuntimeError as e:\n",
    "        print(e)"
   ]
  },
  {
   "cell_type": "code",
   "execution_count": 3,
   "id": "a74b819d",
   "metadata": {},
   "outputs": [],
   "source": [
    "# Arguments\n",
    "layer_width = 512\n",
    "model_seed = 52233264"
   ]
  },
  {
   "cell_type": "code",
   "execution_count": 4,
   "id": "bb35dcb4",
   "metadata": {
    "tags": []
   },
   "outputs": [],
   "source": [
    "# Combine test and train images together into one dataset\n",
    "\n",
    "(train_images, train_labels), (test_images, test_labels) = tf.keras.datasets.mnist.load_data()\n",
    "train_images = train_images.astype(np.float32) / 255.0\n",
    "test_images = test_images.astype(np.float32) / 255.0  \n",
    "\n",
    "all_images =np.concatenate([train_images, test_images], axis=0)\n",
    "all_labels =np.concatenate([train_labels, test_labels], axis=0)"
   ]
  },
  {
   "cell_type": "code",
   "execution_count": 5,
   "id": "63093388",
   "metadata": {
    "tags": []
   },
   "outputs": [
    {
     "name": "stdout",
     "output_type": "stream",
     "text": [
      "Model: \"sequential\"\n",
      "_________________________________________________________________\n",
      "Layer (type)                 Output Shape              Param #   \n",
      "=================================================================\n",
      "flatten (Flatten)            (None, 784)               0         \n",
      "_________________________________________________________________\n",
      "dense (Dense)                (None, 512)               401920    \n",
      "_________________________________________________________________\n",
      "dense_1 (Dense)              (None, 512)               262656    \n",
      "_________________________________________________________________\n",
      "dense_2 (Dense)              (None, 10)                5130      \n",
      "=================================================================\n",
      "Total params: 669,706\n",
      "Trainable params: 669,706\n",
      "Non-trainable params: 0\n",
      "_________________________________________________________________\n"
     ]
    }
   ],
   "source": [
    "# Load original model\n",
    "\n",
    "cur_folder = os.getcwd()\n",
    "model_folder = os.path.join(cur_folder,\"models\")\n",
    "model_name = \"mnist_dense\" + '-w' + str(layer_width) + 'x' + str(layer_width) + '-' + str(model_seed) +\".h5\"\n",
    "model_file = os.path.join(model_folder, model_name)\n",
    "original_model = tf.keras.models.load_model(model_file)\n",
    "original_model.summary()    "
   ]
  },
  {
   "cell_type": "code",
   "execution_count": 6,
   "id": "b3601baa",
   "metadata": {
    "tags": []
   },
   "outputs": [
    {
     "name": "stdout",
     "output_type": "stream",
     "text": [
      "Original Model Name:  mnist_dense-w512x512-52233264.h5\n",
      "Original Model Accuracy: 0.9974428415298462\n"
     ]
    }
   ],
   "source": [
    "# Evaluate original model\n",
    "test_loss, test_acc = original_model.evaluate(all_images, all_labels, verbose=0)\n",
    "print(\"Original Model Name: \", model_name )\n",
    "print('Original Model Accuracy:', test_acc)"
   ]
  }
 ],
 "metadata": {
  "kernelspec": {
   "display_name": "Python 3",
   "language": "python",
   "name": "python3"
  },
  "language_info": {
   "codemirror_mode": {
    "name": "ipython",
    "version": 3
   },
   "file_extension": ".py",
   "mimetype": "text/x-python",
   "name": "python",
   "nbconvert_exporter": "python",
   "pygments_lexer": "ipython3",
   "version": "3.7.10"
  }
 },
 "nbformat": 4,
 "nbformat_minor": 5
}
